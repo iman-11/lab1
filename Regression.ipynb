{
  "nbformat": 4,
  "nbformat_minor": 0,
  "metadata": {
    "colab": {
      "provenance": [],
      "gpuType": "T4"
    },
    "kernelspec": {
      "name": "python3",
      "display_name": "Python 3"
    },
    "language_info": {
      "name": "python"
    },
    "accelerator": "GPU"
  },
  "cells": [
    {
      "cell_type": "code",
      "execution_count": 3,
      "metadata": {
        "id": "69NrCi4-hh-2"
      },
      "outputs": [],
      "source": [
        "import pandas as pd\n",
        "import matplotlib.pyplot as plt\n",
        "import seaborn as sns\n"
      ]
    },
    {
      "cell_type": "code",
      "source": [
        "from google.colab import files\n",
        "uploaded = files.upload()"
      ],
      "metadata": {
        "colab": {
          "base_uri": "https://localhost:8080/",
          "height": 73
        },
        "id": "tJcHaU4V7qG9",
        "outputId": "207abd7f-228e-4338-8489-83ce7d3ca312"
      },
      "execution_count": 4,
      "outputs": [
        {
          "output_type": "display_data",
          "data": {
            "text/plain": [
              "<IPython.core.display.HTML object>"
            ],
            "text/html": [
              "\n",
              "     <input type=\"file\" id=\"files-82e0e6a9-c10e-4b05-8dbe-aaadd03b937f\" name=\"files[]\" multiple disabled\n",
              "        style=\"border:none\" />\n",
              "     <output id=\"result-82e0e6a9-c10e-4b05-8dbe-aaadd03b937f\">\n",
              "      Upload widget is only available when the cell has been executed in the\n",
              "      current browser session. Please rerun this cell to enable.\n",
              "      </output>\n",
              "      <script>// Copyright 2017 Google LLC\n",
              "//\n",
              "// Licensed under the Apache License, Version 2.0 (the \"License\");\n",
              "// you may not use this file except in compliance with the License.\n",
              "// You may obtain a copy of the License at\n",
              "//\n",
              "//      http://www.apache.org/licenses/LICENSE-2.0\n",
              "//\n",
              "// Unless required by applicable law or agreed to in writing, software\n",
              "// distributed under the License is distributed on an \"AS IS\" BASIS,\n",
              "// WITHOUT WARRANTIES OR CONDITIONS OF ANY KIND, either express or implied.\n",
              "// See the License for the specific language governing permissions and\n",
              "// limitations under the License.\n",
              "\n",
              "/**\n",
              " * @fileoverview Helpers for google.colab Python module.\n",
              " */\n",
              "(function(scope) {\n",
              "function span(text, styleAttributes = {}) {\n",
              "  const element = document.createElement('span');\n",
              "  element.textContent = text;\n",
              "  for (const key of Object.keys(styleAttributes)) {\n",
              "    element.style[key] = styleAttributes[key];\n",
              "  }\n",
              "  return element;\n",
              "}\n",
              "\n",
              "// Max number of bytes which will be uploaded at a time.\n",
              "const MAX_PAYLOAD_SIZE = 100 * 1024;\n",
              "\n",
              "function _uploadFiles(inputId, outputId) {\n",
              "  const steps = uploadFilesStep(inputId, outputId);\n",
              "  const outputElement = document.getElementById(outputId);\n",
              "  // Cache steps on the outputElement to make it available for the next call\n",
              "  // to uploadFilesContinue from Python.\n",
              "  outputElement.steps = steps;\n",
              "\n",
              "  return _uploadFilesContinue(outputId);\n",
              "}\n",
              "\n",
              "// This is roughly an async generator (not supported in the browser yet),\n",
              "// where there are multiple asynchronous steps and the Python side is going\n",
              "// to poll for completion of each step.\n",
              "// This uses a Promise to block the python side on completion of each step,\n",
              "// then passes the result of the previous step as the input to the next step.\n",
              "function _uploadFilesContinue(outputId) {\n",
              "  const outputElement = document.getElementById(outputId);\n",
              "  const steps = outputElement.steps;\n",
              "\n",
              "  const next = steps.next(outputElement.lastPromiseValue);\n",
              "  return Promise.resolve(next.value.promise).then((value) => {\n",
              "    // Cache the last promise value to make it available to the next\n",
              "    // step of the generator.\n",
              "    outputElement.lastPromiseValue = value;\n",
              "    return next.value.response;\n",
              "  });\n",
              "}\n",
              "\n",
              "/**\n",
              " * Generator function which is called between each async step of the upload\n",
              " * process.\n",
              " * @param {string} inputId Element ID of the input file picker element.\n",
              " * @param {string} outputId Element ID of the output display.\n",
              " * @return {!Iterable<!Object>} Iterable of next steps.\n",
              " */\n",
              "function* uploadFilesStep(inputId, outputId) {\n",
              "  const inputElement = document.getElementById(inputId);\n",
              "  inputElement.disabled = false;\n",
              "\n",
              "  const outputElement = document.getElementById(outputId);\n",
              "  outputElement.innerHTML = '';\n",
              "\n",
              "  const pickedPromise = new Promise((resolve) => {\n",
              "    inputElement.addEventListener('change', (e) => {\n",
              "      resolve(e.target.files);\n",
              "    });\n",
              "  });\n",
              "\n",
              "  const cancel = document.createElement('button');\n",
              "  inputElement.parentElement.appendChild(cancel);\n",
              "  cancel.textContent = 'Cancel upload';\n",
              "  const cancelPromise = new Promise((resolve) => {\n",
              "    cancel.onclick = () => {\n",
              "      resolve(null);\n",
              "    };\n",
              "  });\n",
              "\n",
              "  // Wait for the user to pick the files.\n",
              "  const files = yield {\n",
              "    promise: Promise.race([pickedPromise, cancelPromise]),\n",
              "    response: {\n",
              "      action: 'starting',\n",
              "    }\n",
              "  };\n",
              "\n",
              "  cancel.remove();\n",
              "\n",
              "  // Disable the input element since further picks are not allowed.\n",
              "  inputElement.disabled = true;\n",
              "\n",
              "  if (!files) {\n",
              "    return {\n",
              "      response: {\n",
              "        action: 'complete',\n",
              "      }\n",
              "    };\n",
              "  }\n",
              "\n",
              "  for (const file of files) {\n",
              "    const li = document.createElement('li');\n",
              "    li.append(span(file.name, {fontWeight: 'bold'}));\n",
              "    li.append(span(\n",
              "        `(${file.type || 'n/a'}) - ${file.size} bytes, ` +\n",
              "        `last modified: ${\n",
              "            file.lastModifiedDate ? file.lastModifiedDate.toLocaleDateString() :\n",
              "                                    'n/a'} - `));\n",
              "    const percent = span('0% done');\n",
              "    li.appendChild(percent);\n",
              "\n",
              "    outputElement.appendChild(li);\n",
              "\n",
              "    const fileDataPromise = new Promise((resolve) => {\n",
              "      const reader = new FileReader();\n",
              "      reader.onload = (e) => {\n",
              "        resolve(e.target.result);\n",
              "      };\n",
              "      reader.readAsArrayBuffer(file);\n",
              "    });\n",
              "    // Wait for the data to be ready.\n",
              "    let fileData = yield {\n",
              "      promise: fileDataPromise,\n",
              "      response: {\n",
              "        action: 'continue',\n",
              "      }\n",
              "    };\n",
              "\n",
              "    // Use a chunked sending to avoid message size limits. See b/62115660.\n",
              "    let position = 0;\n",
              "    do {\n",
              "      const length = Math.min(fileData.byteLength - position, MAX_PAYLOAD_SIZE);\n",
              "      const chunk = new Uint8Array(fileData, position, length);\n",
              "      position += length;\n",
              "\n",
              "      const base64 = btoa(String.fromCharCode.apply(null, chunk));\n",
              "      yield {\n",
              "        response: {\n",
              "          action: 'append',\n",
              "          file: file.name,\n",
              "          data: base64,\n",
              "        },\n",
              "      };\n",
              "\n",
              "      let percentDone = fileData.byteLength === 0 ?\n",
              "          100 :\n",
              "          Math.round((position / fileData.byteLength) * 100);\n",
              "      percent.textContent = `${percentDone}% done`;\n",
              "\n",
              "    } while (position < fileData.byteLength);\n",
              "  }\n",
              "\n",
              "  // All done.\n",
              "  yield {\n",
              "    response: {\n",
              "      action: 'complete',\n",
              "    }\n",
              "  };\n",
              "}\n",
              "\n",
              "scope.google = scope.google || {};\n",
              "scope.google.colab = scope.google.colab || {};\n",
              "scope.google.colab._files = {\n",
              "  _uploadFiles,\n",
              "  _uploadFilesContinue,\n",
              "};\n",
              "})(self);\n",
              "</script> "
            ]
          },
          "metadata": {}
        },
        {
          "output_type": "stream",
          "name": "stdout",
          "text": [
            "Saving prices.csv to prices.csv\n"
          ]
        }
      ]
    },
    {
      "cell_type": "code",
      "source": [
        "df = pd.read_csv('prices.csv')"
      ],
      "metadata": {
        "id": "J6PQvu7h_IOX"
      },
      "execution_count": 5,
      "outputs": []
    },
    {
      "cell_type": "code",
      "source": [
        "df.info()"
      ],
      "metadata": {
        "colab": {
          "base_uri": "https://localhost:8080/"
        },
        "id": "g9coCfIv_KGa",
        "outputId": "75dfc4c5-fc57-4c0c-f698-7bb851696915"
      },
      "execution_count": 6,
      "outputs": [
        {
          "output_type": "stream",
          "name": "stdout",
          "text": [
            "<class 'pandas.core.frame.DataFrame'>\n",
            "RangeIndex: 851264 entries, 0 to 851263\n",
            "Data columns (total 7 columns):\n",
            " #   Column  Non-Null Count   Dtype  \n",
            "---  ------  --------------   -----  \n",
            " 0   date    851264 non-null  object \n",
            " 1   symbol  851264 non-null  object \n",
            " 2   open    851264 non-null  float64\n",
            " 3   close   851264 non-null  float64\n",
            " 4   low     851264 non-null  float64\n",
            " 5   high    851264 non-null  float64\n",
            " 6   volume  851264 non-null  float64\n",
            "dtypes: float64(5), object(2)\n",
            "memory usage: 45.5+ MB\n"
          ]
        }
      ]
    },
    {
      "cell_type": "code",
      "source": [
        "df.describe()"
      ],
      "metadata": {
        "colab": {
          "base_uri": "https://localhost:8080/",
          "height": 300
        },
        "id": "xvrNUnUr_S7H",
        "outputId": "348eb38f-d61c-45ee-e66d-172199355eaf"
      },
      "execution_count": 7,
      "outputs": [
        {
          "output_type": "execute_result",
          "data": {
            "text/plain": [
              "                open          close            low           high  \\\n",
              "count  851264.000000  851264.000000  851264.000000  851264.000000   \n",
              "mean       70.836986      70.857109      70.118414      71.543476   \n",
              "std        83.695876      83.689686      82.877294      84.465504   \n",
              "min         0.850000       0.860000       0.830000       0.880000   \n",
              "25%        33.840000      33.849998      33.480000      34.189999   \n",
              "50%        52.770000      52.799999      52.230000      53.310001   \n",
              "75%        79.879997      79.889999      79.110001      80.610001   \n",
              "max      1584.439941    1578.130005    1549.939941    1600.930054   \n",
              "\n",
              "             volume  \n",
              "count  8.512640e+05  \n",
              "mean   5.415113e+06  \n",
              "std    1.249468e+07  \n",
              "min    0.000000e+00  \n",
              "25%    1.221500e+06  \n",
              "50%    2.476250e+06  \n",
              "75%    5.222500e+06  \n",
              "max    8.596434e+08  "
            ],
            "text/html": [
              "\n",
              "  <div id=\"df-aa9fe44d-bc03-4735-8d04-dcb7d053c88f\" class=\"colab-df-container\">\n",
              "    <div>\n",
              "<style scoped>\n",
              "    .dataframe tbody tr th:only-of-type {\n",
              "        vertical-align: middle;\n",
              "    }\n",
              "\n",
              "    .dataframe tbody tr th {\n",
              "        vertical-align: top;\n",
              "    }\n",
              "\n",
              "    .dataframe thead th {\n",
              "        text-align: right;\n",
              "    }\n",
              "</style>\n",
              "<table border=\"1\" class=\"dataframe\">\n",
              "  <thead>\n",
              "    <tr style=\"text-align: right;\">\n",
              "      <th></th>\n",
              "      <th>open</th>\n",
              "      <th>close</th>\n",
              "      <th>low</th>\n",
              "      <th>high</th>\n",
              "      <th>volume</th>\n",
              "    </tr>\n",
              "  </thead>\n",
              "  <tbody>\n",
              "    <tr>\n",
              "      <th>count</th>\n",
              "      <td>851264.000000</td>\n",
              "      <td>851264.000000</td>\n",
              "      <td>851264.000000</td>\n",
              "      <td>851264.000000</td>\n",
              "      <td>8.512640e+05</td>\n",
              "    </tr>\n",
              "    <tr>\n",
              "      <th>mean</th>\n",
              "      <td>70.836986</td>\n",
              "      <td>70.857109</td>\n",
              "      <td>70.118414</td>\n",
              "      <td>71.543476</td>\n",
              "      <td>5.415113e+06</td>\n",
              "    </tr>\n",
              "    <tr>\n",
              "      <th>std</th>\n",
              "      <td>83.695876</td>\n",
              "      <td>83.689686</td>\n",
              "      <td>82.877294</td>\n",
              "      <td>84.465504</td>\n",
              "      <td>1.249468e+07</td>\n",
              "    </tr>\n",
              "    <tr>\n",
              "      <th>min</th>\n",
              "      <td>0.850000</td>\n",
              "      <td>0.860000</td>\n",
              "      <td>0.830000</td>\n",
              "      <td>0.880000</td>\n",
              "      <td>0.000000e+00</td>\n",
              "    </tr>\n",
              "    <tr>\n",
              "      <th>25%</th>\n",
              "      <td>33.840000</td>\n",
              "      <td>33.849998</td>\n",
              "      <td>33.480000</td>\n",
              "      <td>34.189999</td>\n",
              "      <td>1.221500e+06</td>\n",
              "    </tr>\n",
              "    <tr>\n",
              "      <th>50%</th>\n",
              "      <td>52.770000</td>\n",
              "      <td>52.799999</td>\n",
              "      <td>52.230000</td>\n",
              "      <td>53.310001</td>\n",
              "      <td>2.476250e+06</td>\n",
              "    </tr>\n",
              "    <tr>\n",
              "      <th>75%</th>\n",
              "      <td>79.879997</td>\n",
              "      <td>79.889999</td>\n",
              "      <td>79.110001</td>\n",
              "      <td>80.610001</td>\n",
              "      <td>5.222500e+06</td>\n",
              "    </tr>\n",
              "    <tr>\n",
              "      <th>max</th>\n",
              "      <td>1584.439941</td>\n",
              "      <td>1578.130005</td>\n",
              "      <td>1549.939941</td>\n",
              "      <td>1600.930054</td>\n",
              "      <td>8.596434e+08</td>\n",
              "    </tr>\n",
              "  </tbody>\n",
              "</table>\n",
              "</div>\n",
              "    <div class=\"colab-df-buttons\">\n",
              "\n",
              "  <div class=\"colab-df-container\">\n",
              "    <button class=\"colab-df-convert\" onclick=\"convertToInteractive('df-aa9fe44d-bc03-4735-8d04-dcb7d053c88f')\"\n",
              "            title=\"Convert this dataframe to an interactive table.\"\n",
              "            style=\"display:none;\">\n",
              "\n",
              "  <svg xmlns=\"http://www.w3.org/2000/svg\" height=\"24px\" viewBox=\"0 -960 960 960\">\n",
              "    <path d=\"M120-120v-720h720v720H120Zm60-500h600v-160H180v160Zm220 220h160v-160H400v160Zm0 220h160v-160H400v160ZM180-400h160v-160H180v160Zm440 0h160v-160H620v160ZM180-180h160v-160H180v160Zm440 0h160v-160H620v160Z\"/>\n",
              "  </svg>\n",
              "    </button>\n",
              "\n",
              "  <style>\n",
              "    .colab-df-container {\n",
              "      display:flex;\n",
              "      gap: 12px;\n",
              "    }\n",
              "\n",
              "    .colab-df-convert {\n",
              "      background-color: #E8F0FE;\n",
              "      border: none;\n",
              "      border-radius: 50%;\n",
              "      cursor: pointer;\n",
              "      display: none;\n",
              "      fill: #1967D2;\n",
              "      height: 32px;\n",
              "      padding: 0 0 0 0;\n",
              "      width: 32px;\n",
              "    }\n",
              "\n",
              "    .colab-df-convert:hover {\n",
              "      background-color: #E2EBFA;\n",
              "      box-shadow: 0px 1px 2px rgba(60, 64, 67, 0.3), 0px 1px 3px 1px rgba(60, 64, 67, 0.15);\n",
              "      fill: #174EA6;\n",
              "    }\n",
              "\n",
              "    .colab-df-buttons div {\n",
              "      margin-bottom: 4px;\n",
              "    }\n",
              "\n",
              "    [theme=dark] .colab-df-convert {\n",
              "      background-color: #3B4455;\n",
              "      fill: #D2E3FC;\n",
              "    }\n",
              "\n",
              "    [theme=dark] .colab-df-convert:hover {\n",
              "      background-color: #434B5C;\n",
              "      box-shadow: 0px 1px 3px 1px rgba(0, 0, 0, 0.15);\n",
              "      filter: drop-shadow(0px 1px 2px rgba(0, 0, 0, 0.3));\n",
              "      fill: #FFFFFF;\n",
              "    }\n",
              "  </style>\n",
              "\n",
              "    <script>\n",
              "      const buttonEl =\n",
              "        document.querySelector('#df-aa9fe44d-bc03-4735-8d04-dcb7d053c88f button.colab-df-convert');\n",
              "      buttonEl.style.display =\n",
              "        google.colab.kernel.accessAllowed ? 'block' : 'none';\n",
              "\n",
              "      async function convertToInteractive(key) {\n",
              "        const element = document.querySelector('#df-aa9fe44d-bc03-4735-8d04-dcb7d053c88f');\n",
              "        const dataTable =\n",
              "          await google.colab.kernel.invokeFunction('convertToInteractive',\n",
              "                                                    [key], {});\n",
              "        if (!dataTable) return;\n",
              "\n",
              "        const docLinkHtml = 'Like what you see? Visit the ' +\n",
              "          '<a target=\"_blank\" href=https://colab.research.google.com/notebooks/data_table.ipynb>data table notebook</a>'\n",
              "          + ' to learn more about interactive tables.';\n",
              "        element.innerHTML = '';\n",
              "        dataTable['output_type'] = 'display_data';\n",
              "        await google.colab.output.renderOutput(dataTable, element);\n",
              "        const docLink = document.createElement('div');\n",
              "        docLink.innerHTML = docLinkHtml;\n",
              "        element.appendChild(docLink);\n",
              "      }\n",
              "    </script>\n",
              "  </div>\n",
              "\n",
              "\n",
              "<div id=\"df-28b7b2ba-64f0-4851-adc8-85101d2e6c66\">\n",
              "  <button class=\"colab-df-quickchart\" onclick=\"quickchart('df-28b7b2ba-64f0-4851-adc8-85101d2e6c66')\"\n",
              "            title=\"Suggest charts\"\n",
              "            style=\"display:none;\">\n",
              "\n",
              "<svg xmlns=\"http://www.w3.org/2000/svg\" height=\"24px\"viewBox=\"0 0 24 24\"\n",
              "     width=\"24px\">\n",
              "    <g>\n",
              "        <path d=\"M19 3H5c-1.1 0-2 .9-2 2v14c0 1.1.9 2 2 2h14c1.1 0 2-.9 2-2V5c0-1.1-.9-2-2-2zM9 17H7v-7h2v7zm4 0h-2V7h2v10zm4 0h-2v-4h2v4z\"/>\n",
              "    </g>\n",
              "</svg>\n",
              "  </button>\n",
              "\n",
              "<style>\n",
              "  .colab-df-quickchart {\n",
              "      --bg-color: #E8F0FE;\n",
              "      --fill-color: #1967D2;\n",
              "      --hover-bg-color: #E2EBFA;\n",
              "      --hover-fill-color: #174EA6;\n",
              "      --disabled-fill-color: #AAA;\n",
              "      --disabled-bg-color: #DDD;\n",
              "  }\n",
              "\n",
              "  [theme=dark] .colab-df-quickchart {\n",
              "      --bg-color: #3B4455;\n",
              "      --fill-color: #D2E3FC;\n",
              "      --hover-bg-color: #434B5C;\n",
              "      --hover-fill-color: #FFFFFF;\n",
              "      --disabled-bg-color: #3B4455;\n",
              "      --disabled-fill-color: #666;\n",
              "  }\n",
              "\n",
              "  .colab-df-quickchart {\n",
              "    background-color: var(--bg-color);\n",
              "    border: none;\n",
              "    border-radius: 50%;\n",
              "    cursor: pointer;\n",
              "    display: none;\n",
              "    fill: var(--fill-color);\n",
              "    height: 32px;\n",
              "    padding: 0;\n",
              "    width: 32px;\n",
              "  }\n",
              "\n",
              "  .colab-df-quickchart:hover {\n",
              "    background-color: var(--hover-bg-color);\n",
              "    box-shadow: 0 1px 2px rgba(60, 64, 67, 0.3), 0 1px 3px 1px rgba(60, 64, 67, 0.15);\n",
              "    fill: var(--button-hover-fill-color);\n",
              "  }\n",
              "\n",
              "  .colab-df-quickchart-complete:disabled,\n",
              "  .colab-df-quickchart-complete:disabled:hover {\n",
              "    background-color: var(--disabled-bg-color);\n",
              "    fill: var(--disabled-fill-color);\n",
              "    box-shadow: none;\n",
              "  }\n",
              "\n",
              "  .colab-df-spinner {\n",
              "    border: 2px solid var(--fill-color);\n",
              "    border-color: transparent;\n",
              "    border-bottom-color: var(--fill-color);\n",
              "    animation:\n",
              "      spin 1s steps(1) infinite;\n",
              "  }\n",
              "\n",
              "  @keyframes spin {\n",
              "    0% {\n",
              "      border-color: transparent;\n",
              "      border-bottom-color: var(--fill-color);\n",
              "      border-left-color: var(--fill-color);\n",
              "    }\n",
              "    20% {\n",
              "      border-color: transparent;\n",
              "      border-left-color: var(--fill-color);\n",
              "      border-top-color: var(--fill-color);\n",
              "    }\n",
              "    30% {\n",
              "      border-color: transparent;\n",
              "      border-left-color: var(--fill-color);\n",
              "      border-top-color: var(--fill-color);\n",
              "      border-right-color: var(--fill-color);\n",
              "    }\n",
              "    40% {\n",
              "      border-color: transparent;\n",
              "      border-right-color: var(--fill-color);\n",
              "      border-top-color: var(--fill-color);\n",
              "    }\n",
              "    60% {\n",
              "      border-color: transparent;\n",
              "      border-right-color: var(--fill-color);\n",
              "    }\n",
              "    80% {\n",
              "      border-color: transparent;\n",
              "      border-right-color: var(--fill-color);\n",
              "      border-bottom-color: var(--fill-color);\n",
              "    }\n",
              "    90% {\n",
              "      border-color: transparent;\n",
              "      border-bottom-color: var(--fill-color);\n",
              "    }\n",
              "  }\n",
              "</style>\n",
              "\n",
              "  <script>\n",
              "    async function quickchart(key) {\n",
              "      const quickchartButtonEl =\n",
              "        document.querySelector('#' + key + ' button');\n",
              "      quickchartButtonEl.disabled = true;  // To prevent multiple clicks.\n",
              "      quickchartButtonEl.classList.add('colab-df-spinner');\n",
              "      try {\n",
              "        const charts = await google.colab.kernel.invokeFunction(\n",
              "            'suggestCharts', [key], {});\n",
              "      } catch (error) {\n",
              "        console.error('Error during call to suggestCharts:', error);\n",
              "      }\n",
              "      quickchartButtonEl.classList.remove('colab-df-spinner');\n",
              "      quickchartButtonEl.classList.add('colab-df-quickchart-complete');\n",
              "    }\n",
              "    (() => {\n",
              "      let quickchartButtonEl =\n",
              "        document.querySelector('#df-28b7b2ba-64f0-4851-adc8-85101d2e6c66 button');\n",
              "      quickchartButtonEl.style.display =\n",
              "        google.colab.kernel.accessAllowed ? 'block' : 'none';\n",
              "    })();\n",
              "  </script>\n",
              "</div>\n",
              "\n",
              "    </div>\n",
              "  </div>\n"
            ],
            "application/vnd.google.colaboratory.intrinsic+json": {
              "type": "dataframe",
              "summary": "{\n  \"name\": \"df\",\n  \"rows\": 8,\n  \"fields\": [\n    {\n      \"column\": \"open\",\n      \"properties\": {\n        \"dtype\": \"number\",\n        \"std\": 300871.46820282564,\n        \"min\": 0.85,\n        \"max\": 851264.0,\n        \"num_unique_values\": 8,\n        \"samples\": [\n          70.83698605624812,\n          52.77,\n          851264.0\n        ],\n        \"semantic_type\": \"\",\n        \"description\": \"\"\n      }\n    },\n    {\n      \"column\": \"close\",\n      \"properties\": {\n        \"dtype\": \"number\",\n        \"std\": 300871.7792373026,\n        \"min\": 0.86,\n        \"max\": 851264.0,\n        \"num_unique_values\": 8,\n        \"samples\": [\n          70.85710894065296,\n          52.799999,\n          851264.0\n        ],\n        \"semantic_type\": \"\",\n        \"description\": \"\"\n      }\n    },\n    {\n      \"column\": \"low\",\n      \"properties\": {\n        \"dtype\": \"number\",\n        \"std\": 300873.35276199924,\n        \"min\": 0.83,\n        \"max\": 851264.0,\n        \"num_unique_values\": 8,\n        \"samples\": [\n          70.11841409278205,\n          52.23,\n          851264.0\n        ],\n        \"semantic_type\": \"\",\n        \"description\": \"\"\n      }\n    },\n    {\n      \"column\": \"high\",\n      \"properties\": {\n        \"dtype\": \"number\",\n        \"std\": 300870.4874573587,\n        \"min\": 0.88,\n        \"max\": 851264.0,\n        \"num_unique_values\": 8,\n        \"samples\": [\n          71.543475894054,\n          53.310001,\n          851264.0\n        ],\n        \"semantic_type\": \"\",\n        \"description\": \"\"\n      }\n    },\n    {\n      \"column\": \"volume\",\n      \"properties\": {\n        \"dtype\": \"number\",\n        \"std\": 302558069.16333306,\n        \"min\": 0.0,\n        \"max\": 859643400.0,\n        \"num_unique_values\": 8,\n        \"samples\": [\n          5415112.640027066,\n          2476250.0,\n          851264.0\n        ],\n        \"semantic_type\": \"\",\n        \"description\": \"\"\n      }\n    }\n  ]\n}"
            }
          },
          "metadata": {},
          "execution_count": 7
        }
      ]
    },
    {
      "cell_type": "code",
      "source": [
        "df['symbol'] = pd.factorize(df['symbol'])[0]\n",
        "print(df.head())"
      ],
      "metadata": {
        "colab": {
          "base_uri": "https://localhost:8080/"
        },
        "id": "CYEGg4od_Wjd",
        "outputId": "e9f5cf94-0887-4c6f-e3a4-03d4945bbffa"
      },
      "execution_count": 8,
      "outputs": [
        {
          "output_type": "stream",
          "name": "stdout",
          "text": [
            "                  date  symbol        open       close         low  \\\n",
            "0           2016-01-05       0  123.430000  125.839996  122.309998   \n",
            "1           2016-01-06       0  125.239998  119.980003  119.940002   \n",
            "2           2016-01-07       0  116.379997  114.949997  114.930000   \n",
            "3           2016-01-08       0  115.480003  116.620003  113.500000   \n",
            "4  2016-01-11 00:00:00       0  117.010002  114.970001  114.089996   \n",
            "\n",
            "         high     volume  \n",
            "0  126.250000  2163600.0  \n",
            "1  125.540001  2386400.0  \n",
            "2  119.739998  2489500.0  \n",
            "3  117.440002  2006300.0  \n",
            "4  117.330002  1408600.0  \n"
          ]
        }
      ]
    },
    {
      "cell_type": "code",
      "source": [
        "print(df.tail())"
      ],
      "metadata": {
        "colab": {
          "base_uri": "https://localhost:8080/"
        },
        "id": "lrTpqPsZ_a0F",
        "outputId": "859f6e38-fcd5-493e-9952-a3ebcd46e6bc"
      },
      "execution_count": 9,
      "outputs": [
        {
          "output_type": "stream",
          "name": "stdout",
          "text": [
            "              date  symbol        open       close         low        high  \\\n",
            "851259  2016-12-30     465  103.309998  103.199997  102.849998  103.930000   \n",
            "851260  2016-12-30     466   43.070000   43.040001   42.689999   43.310001   \n",
            "851261  2016-12-30     484   53.639999   53.529999   53.270000   53.740002   \n",
            "851262  2016-12-30     467   44.730000   45.450001   44.410000   45.590000   \n",
            "851263  2016-12-30     500   54.200001   53.630001   53.389999   54.480000   \n",
            "\n",
            "           volume  \n",
            "851259   973800.0  \n",
            "851260  1938100.0  \n",
            "851261  1701200.0  \n",
            "851262  1380900.0  \n",
            "851263   705100.0  \n"
          ]
        }
      ]
    },
    {
      "cell_type": "code",
      "source": [
        "df['date'] = pd.to_datetime(df['date'], errors='coerce').dt.date"
      ],
      "metadata": {
        "id": "LQFt-wWa_fPw"
      },
      "execution_count": 10,
      "outputs": []
    },
    {
      "cell_type": "code",
      "source": [
        "print(df.head())"
      ],
      "metadata": {
        "colab": {
          "base_uri": "https://localhost:8080/"
        },
        "id": "wiT82MB9_jc7",
        "outputId": "257eedb5-9260-48a1-dfab-31c6d835fd68"
      },
      "execution_count": 11,
      "outputs": [
        {
          "output_type": "stream",
          "name": "stdout",
          "text": [
            "         date  symbol        open       close         low        high  \\\n",
            "0  2016-01-05       0  123.430000  125.839996  122.309998  126.250000   \n",
            "1  2016-01-06       0  125.239998  119.980003  119.940002  125.540001   \n",
            "2  2016-01-07       0  116.379997  114.949997  114.930000  119.739998   \n",
            "3  2016-01-08       0  115.480003  116.620003  113.500000  117.440002   \n",
            "4         NaT       0  117.010002  114.970001  114.089996  117.330002   \n",
            "\n",
            "      volume  \n",
            "0  2163600.0  \n",
            "1  2386400.0  \n",
            "2  2489500.0  \n",
            "3  2006300.0  \n",
            "4  1408600.0  \n"
          ]
        }
      ]
    },
    {
      "cell_type": "code",
      "source": [
        "df.isnull().sum()"
      ],
      "metadata": {
        "colab": {
          "base_uri": "https://localhost:8080/",
          "height": 303
        },
        "id": "Hm9umJHt_rDH",
        "outputId": "55c58792-624c-4eb2-ef74-6e87e6c80017"
      },
      "execution_count": 12,
      "outputs": [
        {
          "output_type": "execute_result",
          "data": {
            "text/plain": [
              "date      2130\n",
              "symbol       0\n",
              "open         0\n",
              "close        0\n",
              "low          0\n",
              "high         0\n",
              "volume       0\n",
              "dtype: int64"
            ],
            "text/html": [
              "<div>\n",
              "<style scoped>\n",
              "    .dataframe tbody tr th:only-of-type {\n",
              "        vertical-align: middle;\n",
              "    }\n",
              "\n",
              "    .dataframe tbody tr th {\n",
              "        vertical-align: top;\n",
              "    }\n",
              "\n",
              "    .dataframe thead th {\n",
              "        text-align: right;\n",
              "    }\n",
              "</style>\n",
              "<table border=\"1\" class=\"dataframe\">\n",
              "  <thead>\n",
              "    <tr style=\"text-align: right;\">\n",
              "      <th></th>\n",
              "      <th>0</th>\n",
              "    </tr>\n",
              "  </thead>\n",
              "  <tbody>\n",
              "    <tr>\n",
              "      <th>date</th>\n",
              "      <td>2130</td>\n",
              "    </tr>\n",
              "    <tr>\n",
              "      <th>symbol</th>\n",
              "      <td>0</td>\n",
              "    </tr>\n",
              "    <tr>\n",
              "      <th>open</th>\n",
              "      <td>0</td>\n",
              "    </tr>\n",
              "    <tr>\n",
              "      <th>close</th>\n",
              "      <td>0</td>\n",
              "    </tr>\n",
              "    <tr>\n",
              "      <th>low</th>\n",
              "      <td>0</td>\n",
              "    </tr>\n",
              "    <tr>\n",
              "      <th>high</th>\n",
              "      <td>0</td>\n",
              "    </tr>\n",
              "    <tr>\n",
              "      <th>volume</th>\n",
              "      <td>0</td>\n",
              "    </tr>\n",
              "  </tbody>\n",
              "</table>\n",
              "</div><br><label><b>dtype:</b> int64</label>"
            ]
          },
          "metadata": {},
          "execution_count": 12
        }
      ]
    },
    {
      "cell_type": "code",
      "source": [
        "# Vérifier les lignes dupliquées\n",
        "duplicates = df.duplicated()\n",
        "\n",
        "# Afficher les lignes dupliquées\n",
        "print(\"Lignes dupliquées :\")\n",
        "print(df[duplicates])\n",
        "\n",
        "# Supprimer les lignes dupliquées\n",
        "df = df.drop_duplicates()\n",
        "\n",
        "print(\"\\nDataFrame après suppression des duplications :\")\n",
        "print(df)\n"
      ],
      "metadata": {
        "colab": {
          "base_uri": "https://localhost:8080/"
        },
        "id": "AisYa2Qy_wbU",
        "outputId": "a771959f-d4c8-4150-e0e2-6c432318a4be"
      },
      "execution_count": 13,
      "outputs": [
        {
          "output_type": "stream",
          "name": "stdout",
          "text": [
            "Lignes dupliquées :\n",
            "Empty DataFrame\n",
            "Columns: [date, symbol, open, close, low, high, volume]\n",
            "Index: []\n",
            "\n",
            "DataFrame après suppression des duplications :\n",
            "              date  symbol        open       close         low        high  \\\n",
            "0       2016-01-05       0  123.430000  125.839996  122.309998  126.250000   \n",
            "1       2016-01-06       0  125.239998  119.980003  119.940002  125.540001   \n",
            "2       2016-01-07       0  116.379997  114.949997  114.930000  119.739998   \n",
            "3       2016-01-08       0  115.480003  116.620003  113.500000  117.440002   \n",
            "4              NaT       0  117.010002  114.970001  114.089996  117.330002   \n",
            "...            ...     ...         ...         ...         ...         ...   \n",
            "851259  2016-12-30     465  103.309998  103.199997  102.849998  103.930000   \n",
            "851260  2016-12-30     466   43.070000   43.040001   42.689999   43.310001   \n",
            "851261  2016-12-30     484   53.639999   53.529999   53.270000   53.740002   \n",
            "851262  2016-12-30     467   44.730000   45.450001   44.410000   45.590000   \n",
            "851263  2016-12-30     500   54.200001   53.630001   53.389999   54.480000   \n",
            "\n",
            "           volume  \n",
            "0       2163600.0  \n",
            "1       2386400.0  \n",
            "2       2489500.0  \n",
            "3       2006300.0  \n",
            "4       1408600.0  \n",
            "...           ...  \n",
            "851259   973800.0  \n",
            "851260  1938100.0  \n",
            "851261  1701200.0  \n",
            "851262  1380900.0  \n",
            "851263   705100.0  \n",
            "\n",
            "[851264 rows x 7 columns]\n"
          ]
        }
      ]
    },
    {
      "cell_type": "code",
      "source": [
        "# Vérifier les lignes vides (NaN)\n",
        "empty_rows = df.isnull().any(axis=1)\n",
        "\n",
        "# Afficher les lignes vides\n",
        "print(\"Lignes vides :\")\n",
        "print(df[empty_rows])\n",
        "\n",
        "# Supprimer les lignes vides\n",
        "df = df.dropna()\n",
        "\n",
        "print(\"\\nDataFrame après suppression des lignes vides :\")\n",
        "print(df)"
      ],
      "metadata": {
        "colab": {
          "base_uri": "https://localhost:8080/"
        },
        "id": "UDXS0f9n_1qw",
        "outputId": "b9b61fb6-9704-41bc-ba1f-7055cb590e60"
      },
      "execution_count": 14,
      "outputs": [
        {
          "output_type": "stream",
          "name": "stdout",
          "text": [
            "Lignes vides :\n",
            "       date  symbol        open       close         low        high     volume\n",
            "4       NaT       0  117.010002  114.970001  114.089996  117.330002  1408600.0\n",
            "5       NaT       0  115.510002  115.550003  114.500000  116.059998  1098000.0\n",
            "6       NaT       0  116.459999  112.849998  112.589996  117.070000   949600.0\n",
            "7       NaT       0  113.510002  114.379997  110.050003  115.029999   785300.0\n",
            "8       NaT       0  113.330002  112.529999  111.919998  114.879997  1093700.0\n",
            "...     ...     ...         ...         ...         ...         ...        ...\n",
            "849763  NaT     500   54.750000   54.459999   54.110001   54.840000   386200.0\n",
            "850262  NaT     467   44.360001   44.230000   44.000000   44.450001   810000.0\n",
            "850263  NaT     500   54.660000   53.750000   53.470001   54.660000   540400.0\n",
            "850762  NaT     467   44.360001   44.700001   44.250000   44.840000   653200.0\n",
            "850763  NaT     500   53.990002   54.009998   53.590000   54.139999   479500.0\n",
            "\n",
            "[2130 rows x 7 columns]\n",
            "\n",
            "DataFrame après suppression des lignes vides :\n",
            "              date  symbol        open       close         low        high  \\\n",
            "0       2016-01-05       0  123.430000  125.839996  122.309998  126.250000   \n",
            "1       2016-01-06       0  125.239998  119.980003  119.940002  125.540001   \n",
            "2       2016-01-07       0  116.379997  114.949997  114.930000  119.739998   \n",
            "3       2016-01-08       0  115.480003  116.620003  113.500000  117.440002   \n",
            "248     2016-12-28       0  124.300003  122.379997  121.900002  124.300003   \n",
            "...            ...     ...         ...         ...         ...         ...   \n",
            "851259  2016-12-30     465  103.309998  103.199997  102.849998  103.930000   \n",
            "851260  2016-12-30     466   43.070000   43.040001   42.689999   43.310001   \n",
            "851261  2016-12-30     484   53.639999   53.529999   53.270000   53.740002   \n",
            "851262  2016-12-30     467   44.730000   45.450001   44.410000   45.590000   \n",
            "851263  2016-12-30     500   54.200001   53.630001   53.389999   54.480000   \n",
            "\n",
            "           volume  \n",
            "0       2163600.0  \n",
            "1       2386400.0  \n",
            "2       2489500.0  \n",
            "3       2006300.0  \n",
            "248      429900.0  \n",
            "...           ...  \n",
            "851259   973800.0  \n",
            "851260  1938100.0  \n",
            "851261  1701200.0  \n",
            "851262  1380900.0  \n",
            "851263   705100.0  \n",
            "\n",
            "[849134 rows x 7 columns]\n"
          ]
        }
      ]
    },
    {
      "cell_type": "code",
      "source": [
        "plt.figure(figsize=(10, 6))\n",
        "plt.plot(df['date'], df['close'], label='Close Price')\n",
        "plt.xlabel('Date')\n",
        "plt.ylabel('Price')\n",
        "plt.title('Évolution du prix de clôture dans le temps')\n",
        "plt.legend()\n",
        "plt.show()"
      ],
      "metadata": {
        "colab": {
          "base_uri": "https://localhost:8080/",
          "height": 463
        },
        "id": "BwgRexUr_-T2",
        "outputId": "200794e2-ddb0-47ea-9579-e21ad4b74e85"
      },
      "execution_count": 15,
      "outputs": [
        {
          "output_type": "display_data",
          "data": {
            "text/plain": [
              "<Figure size 1000x600 with 1 Axes>"
            ],
            "image/png": "[encoded data removed]"
          },
          "metadata": {}
        }
      ]
    },
    {
      "cell_type": "code",
      "source": [
        "import torch\n",
        "import torch.nn as nn\n",
        "import torch.optim as optim\n",
        "from torch.utils.data import DataLoader, TensorDataset\n",
        "from sklearn.model_selection import train_test_split\n",
        "from sklearn.preprocessing import StandardScaler\n",
        "import numpy as np\n"
      ],
      "metadata": {
        "id": "CZyKZJikD3B9"
      },
      "execution_count": 16,
      "outputs": []
    },
    {
      "cell_type": "code",
      "source": [
        "X = df[['open', 'low', 'high', 'volume']].values\n",
        "y = df['close'].values\n"
      ],
      "metadata": {
        "id": "hiQIgKeYF_dT"
      },
      "execution_count": 17,
      "outputs": []
    },
    {
      "cell_type": "code",
      "source": [
        "# Diviser les données en ensembles d'entraînement et de test\n",
        "X_train, X_test, y_train, y_test = train_test_split(X, y, test_size=0.2, random_state=42)"
      ],
      "metadata": {
        "id": "UvOrKHGOGJk-"
      },
      "execution_count": 18,
      "outputs": []
    },
    {
      "cell_type": "code",
      "source": [
        "# Normaliser les données\n",
        "scaler = StandardScaler()\n",
        "X_train = scaler.fit_transform(X_train)\n",
        "X_test = scaler.transform(X_test)"
      ],
      "metadata": {
        "id": "6ab5onkNGNyB"
      },
      "execution_count": 19,
      "outputs": []
    },
    {
      "cell_type": "code",
      "source": [
        "# Convertir les données en tenseurs PyTorch\n",
        "X_train_tensor = torch.tensor(X_train, dtype=torch.float32)\n",
        "y_train_tensor = torch.tensor(y_train, dtype=torch.float32).view(-1, 1)\n",
        "X_test_tensor = torch.tensor(X_test, dtype=torch.float32)\n",
        "y_test_tensor = torch.tensor(y_test, dtype=torch.float32).view(-1, 1)\n",
        "\n",
        "# Créer des DataLoaders pour l'entraînement et le test\n",
        "train_dataset = TensorDataset(X_train_tensor, y_train_tensor)\n",
        "test_dataset = TensorDataset(X_test_tensor, y_test_tensor)\n",
        "train_loader = DataLoader(train_dataset, batch_size=32, shuffle=True)\n",
        "test_loader = DataLoader(test_dataset, batch_size=32, shuffle=False)"
      ],
      "metadata": {
        "id": "SFtAQX0RGR9i"
      },
      "execution_count": 20,
      "outputs": []
    },
    {
      "cell_type": "code",
      "source": [
        "class DNNRegressionModel(nn.Module):\n",
        "    def __init__(self):\n",
        "        super(DNNRegressionModel, self).__init__()\n",
        "        self.hidden1 = nn.Linear(4, 64)   # Couche cachée avec 64 neurones\n",
        "        self.hidden2 = nn.Linear(64, 32)  # Deuxième couche cachée avec 32 neurones\n",
        "        self.hidden3 = nn.Linear(32, 16)  # Troisième couche cachée avec 16 neurones\n",
        "        self.output = nn.Linear(16, 1)    # Couche de sortie pour prédire une valeur continue\n",
        "        self.relu = nn.ReLU()             # Fonction d'activation ReLU\n",
        "\n",
        "    def forward(self, x):\n",
        "        x = self.relu(self.hidden1(x))\n",
        "        x = self.relu(self.hidden2(x))\n",
        "        x = self.relu(self.hidden3(x))\n",
        "        x = self.output(x)\n",
        "        return x\n",
        "\n",
        "model = DNNRegressionModel()"
      ],
      "metadata": {
        "id": "JtIBbDboGfTC"
      },
      "execution_count": 21,
      "outputs": []
    },
    {
      "cell_type": "code",
      "source": [
        "criterion = nn.MSELoss()\n",
        "optimizer = optim.Adam(model.parameters(), lr=0.001)"
      ],
      "metadata": {
        "id": "zaWV302fGy4b"
      },
      "execution_count": 22,
      "outputs": []
    },
    {
      "cell_type": "code",
      "source": [
        "num_epochs = 100\n",
        "for epoch in range(num_epochs):\n",
        "    # Entraînement\n",
        "    model.train()\n",
        "    for X_batch, y_batch in train_loader:\n",
        "        optimizer.zero_grad()           # Réinitialiser les gradients\n",
        "        y_pred = model(X_batch)         # Prédictions\n",
        "        loss = criterion(y_pred, y_batch)  # Calcul de la perte\n",
        "        loss.backward()                 # Backpropagation\n",
        "        optimizer.step()                # Mise à jour des poids\n",
        "\n",
        "    # Évaluation\n",
        "    model.eval()\n",
        "    with torch.no_grad():\n",
        "        train_loss = sum(criterion(model(X_batch), y_batch) for X_batch, y_batch in train_loader) / len(train_loader)\n",
        "        test_loss = sum(criterion(model(X_batch), y_batch) for X_batch, y_batch in test_loader) / len(test_loader)\n",
        "\n",
        "    print(f'Époque [{epoch+1}/{num_epochs}], Perte Entraînement : {train_loss:.4f}, Perte Test : {test_loss:.4f}')\n"
      ],
      "metadata": {
        "colab": {
          "base_uri": "https://localhost:8080/"
        },
        "id": "N1_-voXBHF9W",
        "outputId": "ee0d2ba0-54c1-4803-ddef-b1c21508b653"
      },
      "execution_count": 23,
      "outputs": [
        {
          "output_type": "stream",
          "name": "stdout",
          "text": [
            "Époque [1/100], Perte Entraînement : 3.6599, Perte Test : 3.6576\n",
            "Époque [2/100], Perte Entraînement : 0.7125, Perte Test : 0.7056\n",
            "Époque [3/100], Perte Entraînement : 0.7487, Perte Test : 0.7474\n",
            "Époque [4/100], Perte Entraînement : 0.6232, Perte Test : 0.6262\n",
            "Époque [5/100], Perte Entraînement : 0.5420, Perte Test : 0.5458\n",
            "Époque [6/100], Perte Entraînement : 22.0595, Perte Test : 22.1373\n",
            "Époque [7/100], Perte Entraînement : 1.8360, Perte Test : 1.8468\n",
            "Époque [8/100], Perte Entraînement : 0.4714, Perte Test : 0.4765\n",
            "Époque [9/100], Perte Entraînement : 1.4074, Perte Test : 1.4146\n",
            "Époque [10/100], Perte Entraînement : 0.8767, Perte Test : 0.8834\n",
            "Époque [11/100], Perte Entraînement : 0.6715, Perte Test : 0.6761\n",
            "Époque [12/100], Perte Entraînement : 0.4469, Perte Test : 0.4517\n",
            "Époque [13/100], Perte Entraînement : 0.6477, Perte Test : 0.6538\n",
            "Époque [14/100], Perte Entraînement : 1.0327, Perte Test : 1.0407\n",
            "Époque [15/100], Perte Entraînement : 1.0536, Perte Test : 1.0580\n",
            "Époque [16/100], Perte Entraînement : 0.4356, Perte Test : 0.4407\n",
            "Époque [17/100], Perte Entraînement : 0.5494, Perte Test : 0.5553\n",
            "Époque [18/100], Perte Entraînement : 0.5346, Perte Test : 0.5405\n",
            "Époque [19/100], Perte Entraînement : 0.5928, Perte Test : 0.5977\n",
            "Époque [20/100], Perte Entraînement : 0.4687, Perte Test : 0.4741\n",
            "Époque [21/100], Perte Entraînement : 0.7714, Perte Test : 0.7789\n",
            "Époque [22/100], Perte Entraînement : 1.2253, Perte Test : 1.2346\n",
            "Époque [23/100], Perte Entraînement : 0.6218, Perte Test : 0.6284\n",
            "Époque [24/100], Perte Entraînement : 0.4822, Perte Test : 0.4895\n",
            "Époque [25/100], Perte Entraînement : 1.9104, Perte Test : 1.9203\n",
            "Époque [26/100], Perte Entraînement : 0.5607, Perte Test : 0.5689\n",
            "Époque [27/100], Perte Entraînement : 0.4476, Perte Test : 0.4537\n",
            "Époque [28/100], Perte Entraînement : 0.4349, Perte Test : 0.4402\n",
            "Époque [29/100], Perte Entraînement : 0.6633, Perte Test : 0.6681\n",
            "Époque [30/100], Perte Entraînement : 0.4515, Perte Test : 0.4563\n",
            "Époque [31/100], Perte Entraînement : 0.7118, Perte Test : 0.7156\n",
            "Époque [32/100], Perte Entraînement : 0.6108, Perte Test : 0.6169\n",
            "Époque [33/100], Perte Entraînement : 0.4509, Perte Test : 0.4579\n",
            "Époque [34/100], Perte Entraînement : 0.4406, Perte Test : 0.4468\n",
            "Époque [35/100], Perte Entraînement : 0.4813, Perte Test : 0.4875\n",
            "Époque [36/100], Perte Entraînement : 0.7735, Perte Test : 0.7769\n",
            "Époque [37/100], Perte Entraînement : 0.4578, Perte Test : 0.4624\n",
            "Époque [38/100], Perte Entraînement : 2.3709, Perte Test : 2.3754\n",
            "Époque [39/100], Perte Entraînement : 0.4609, Perte Test : 0.4669\n",
            "Époque [40/100], Perte Entraînement : 0.4947, Perte Test : 0.4991\n",
            "Époque [41/100], Perte Entraînement : 0.4827, Perte Test : 0.4885\n",
            "Époque [42/100], Perte Entraînement : 0.4633, Perte Test : 0.4684\n",
            "Époque [43/100], Perte Entraînement : 1.0243, Perte Test : 1.0294\n",
            "Époque [44/100], Perte Entraînement : 0.4547, Perte Test : 0.4596\n",
            "Époque [45/100], Perte Entraînement : 0.6741, Perte Test : 0.6801\n",
            "Époque [46/100], Perte Entraînement : 1.5308, Perte Test : 1.5407\n",
            "Époque [47/100], Perte Entraînement : 0.4315, Perte Test : 0.4375\n",
            "Époque [48/100], Perte Entraînement : 0.7245, Perte Test : 0.7293\n",
            "Époque [49/100], Perte Entraînement : 0.9211, Perte Test : 0.9273\n",
            "Époque [50/100], Perte Entraînement : 0.5938, Perte Test : 0.5990\n",
            "Époque [51/100], Perte Entraînement : 0.4783, Perte Test : 0.4835\n",
            "Époque [52/100], Perte Entraînement : 0.4484, Perte Test : 0.4529\n",
            "Époque [53/100], Perte Entraînement : 0.7437, Perte Test : 0.7507\n",
            "Époque [54/100], Perte Entraînement : 1.8568, Perte Test : 1.8655\n",
            "Époque [55/100], Perte Entraînement : 0.4815, Perte Test : 0.4855\n",
            "Époque [56/100], Perte Entraînement : 0.8703, Perte Test : 0.8767\n",
            "Époque [57/100], Perte Entraînement : 1.0790, Perte Test : 1.0863\n",
            "Époque [58/100], Perte Entraînement : 0.5042, Perte Test : 0.5098\n",
            "Époque [59/100], Perte Entraînement : 0.4518, Perte Test : 0.4565\n",
            "Époque [60/100], Perte Entraînement : 0.5471, Perte Test : 0.5531\n",
            "Époque [61/100], Perte Entraînement : 0.6535, Perte Test : 0.6600\n",
            "Époque [62/100], Perte Entraînement : 0.5690, Perte Test : 0.5744\n",
            "Époque [63/100], Perte Entraînement : 0.5250, Perte Test : 0.5300\n",
            "Époque [64/100], Perte Entraînement : 0.5281, Perte Test : 0.5327\n",
            "Époque [65/100], Perte Entraînement : 0.7147, Perte Test : 0.7205\n",
            "Époque [66/100], Perte Entraînement : 0.4836, Perte Test : 0.4863\n",
            "Époque [67/100], Perte Entraînement : 0.5219, Perte Test : 0.5273\n",
            "Époque [68/100], Perte Entraînement : 0.7043, Perte Test : 0.7101\n",
            "Époque [69/100], Perte Entraînement : 0.4493, Perte Test : 0.4555\n",
            "Époque [70/100], Perte Entraînement : 0.6855, Perte Test : 0.6919\n",
            "Époque [71/100], Perte Entraînement : 0.6694, Perte Test : 0.6744\n",
            "Époque [72/100], Perte Entraînement : 5.3845, Perte Test : 5.4086\n",
            "Époque [73/100], Perte Entraînement : 1.1086, Perte Test : 1.1158\n",
            "Époque [74/100], Perte Entraînement : 0.5947, Perte Test : 0.5987\n",
            "Époque [75/100], Perte Entraînement : 1.6306, Perte Test : 1.6352\n",
            "Époque [76/100], Perte Entraînement : 0.4568, Perte Test : 0.4614\n",
            "Époque [77/100], Perte Entraînement : 1.7858, Perte Test : 1.7929\n",
            "Époque [78/100], Perte Entraînement : 0.7401, Perte Test : 0.7450\n",
            "Époque [79/100], Perte Entraînement : 0.4275, Perte Test : 0.4317\n",
            "Époque [80/100], Perte Entraînement : 0.6427, Perte Test : 0.6474\n",
            "Époque [81/100], Perte Entraînement : 0.5422, Perte Test : 0.5470\n",
            "Époque [82/100], Perte Entraînement : 0.4403, Perte Test : 0.4445\n",
            "Époque [83/100], Perte Entraînement : 0.4387, Perte Test : 0.4437\n",
            "Époque [84/100], Perte Entraînement : 0.5918, Perte Test : 0.5970\n",
            "Époque [85/100], Perte Entraînement : 0.4421, Perte Test : 0.4469\n",
            "Époque [86/100], Perte Entraînement : 0.4807, Perte Test : 0.4859\n",
            "Époque [87/100], Perte Entraînement : 0.4860, Perte Test : 0.4917\n",
            "Époque [88/100], Perte Entraînement : 0.4242, Perte Test : 0.4289\n",
            "Époque [89/100], Perte Entraînement : 0.4787, Perte Test : 0.4836\n",
            "Époque [90/100], Perte Entraînement : 0.4489, Perte Test : 0.4539\n",
            "Époque [91/100], Perte Entraînement : 0.5164, Perte Test : 0.5223\n",
            "Époque [92/100], Perte Entraînement : 0.4265, Perte Test : 0.4310\n",
            "Époque [93/100], Perte Entraînement : 0.4985, Perte Test : 0.5032\n",
            "Époque [94/100], Perte Entraînement : 1.3501, Perte Test : 1.3557\n",
            "Époque [95/100], Perte Entraînement : 0.5455, Perte Test : 0.5516\n",
            "Époque [96/100], Perte Entraînement : 0.4520, Perte Test : 0.4559\n",
            "Époque [97/100], Perte Entraînement : 0.7271, Perte Test : 0.7310\n",
            "Époque [98/100], Perte Entraînement : 0.4226, Perte Test : 0.4271\n",
            "Époque [99/100], Perte Entraînement : 0.5099, Perte Test : 0.5155\n",
            "Époque [100/100], Perte Entraînement : 0.4364, Perte Test : 0.4414\n"
          ]
        }
      ]
    },
    {
      "cell_type": "code",
      "source": [
        "pip install skorch"
      ],
      "metadata": {
        "colab": {
          "base_uri": "https://localhost:8080/"
        },
        "id": "uSzvEespgjMr",
        "outputId": "d5972a76-6339-4179-bfee-40a281560003"
      },
      "execution_count": 24,
      "outputs": [
        {
          "output_type": "stream",
          "name": "stdout",
          "text": [
            "Collecting skorch\n",
            "  Downloading skorch-1.0.0-py3-none-any.whl.metadata (11 kB)\n",
            "Requirement already satisfied: numpy>=1.13.3 in /usr/local/lib/python3.10/dist-packages (from skorch) (1.26.4)\n",
            "Requirement already satisfied: scikit-learn>=0.22.0 in /usr/local/lib/python3.10/dist-packages (from skorch) (1.5.2)\n",
            "Requirement already satisfied: scipy>=1.1.0 in /usr/local/lib/python3.10/dist-packages (from skorch) (1.13.1)\n",
            "Requirement already satisfied: tabulate>=0.7.7 in /usr/local/lib/python3.10/dist-packages (from skorch) (0.9.0)\n",
            "Requirement already satisfied: tqdm>=4.14.0 in /usr/local/lib/python3.10/dist-packages (from skorch) (4.66.6)\n",
            "Requirement already satisfied: joblib>=1.2.0 in /usr/local/lib/python3.10/dist-packages (from scikit-learn>=0.22.0->skorch) (1.4.2)\n",
            "Requirement already satisfied: threadpoolctl>=3.1.0 in /usr/local/lib/python3.10/dist-packages (from scikit-learn>=0.22.0->skorch) (3.5.0)\n",
            "Downloading skorch-1.0.0-py3-none-any.whl (239 kB)\n",
            "\u001b[?25l   \u001b[90m━━━━━━━━━━━━━━━━━━━━━━━━━━━━━━━━━━━━━━━━\u001b[0m \u001b[32m0.0/239.4 kB\u001b[0m \u001b[31m?\u001b[0m eta \u001b[36m-:--:--\u001b[0m\r\u001b[2K   \u001b[90m━━━━━━━━━━━━━━━━━━━━━━━━━━━━━━━━━━━━━━━━\u001b[0m \u001b[32m239.4/239.4 kB\u001b[0m \u001b[31m15.9 MB/s\u001b[0m eta \u001b[36m0:00:00\u001b[0m\n",
            "\u001b[?25hInstalling collected packages: skorch\n",
            "Successfully installed skorch-1.0.0\n"
          ]
        }
      ]
    },
    {
      "cell_type": "code",
      "source": [
        "class DNNRegressionModel(nn.Module):\n",
        "    def __init__(self, input_dim=4, hidden1_size=64, hidden2_size=32, hidden3_size=16):\n",
        "        super(DNNRegressionModel, self).__init__()\n",
        "        self.hidden1 = nn.Linear(input_dim, hidden1_size)\n",
        "        self.hidden2 = nn.Linear(hidden1_size, hidden2_size)\n",
        "        self.hidden3 = nn.Linear(hidden2_size, hidden3_size)\n",
        "        self.output = nn.Linear(hidden3_size, 1)\n",
        "\n",
        "    def forward(self, x):\n",
        "        x = F.relu(self.hidden1(x))\n",
        "        x = F.relu(self.hidden2(x))\n",
        "        x = F.relu(self.hidden3(x))\n",
        "        x = self.output(x)\n",
        "        return x"
      ],
      "metadata": {
        "id": "NTPN2VB1gvDU"
      },
      "execution_count": 26,
      "outputs": []
    },
    {
      "cell_type": "code",
      "source": [
        "# Créer une instance du modèle pour skorch\n",
        "net = NeuralNetRegressor(\n",
        "    DNNRegressionModel,\n",
        "    max_epochs=50,\n",
        "    lr=0.001,\n",
        "    optimizer=torch.optim.Adam,\n",
        "    iterator_train__shuffle=True,\n",
        ")"
      ],
      "metadata": {
        "id": "HrRPcQBKhGcc"
      },
      "execution_count": 27,
      "outputs": []
    },
    {
      "cell_type": "code",
      "source": [
        "# Définir la grille des hyperparamètres à tester\n",
        "param_grid = {\n",
        "    'lr': [0.001, 0.01, 0.1],                     # Différents taux d'apprentissage\n",
        "    'max_epochs': [50, 100, 150],                 # Différents nombres d'époques\n",
        "    'module__hidden1_size': [32, 64, 128],        # Nombre de neurones dans la première couche cachée\n",
        "    'module__hidden2_size': [16, 32, 64],         # Nombre de neurones dans la deuxième couche cachée\n",
        "    'module__hidden3_size': [8, 16, 32],          # Nombre de neurones dans la troisième couche cachée\n",
        "    'optimizer': [torch.optim.Adam, torch.optim.SGD]  # Test de différents optimiseurs\n",
        "}\n"
      ],
      "metadata": {
        "id": "2coKwEZChK9U"
      },
      "execution_count": 28,
      "outputs": []
    },
    {
      "cell_type": "code",
      "source": [
        "# Convertir les données en float32\n",
        "X_train = X_train.astype('float32')\n",
        "y_train = y_train.astype('float32')"
      ],
      "metadata": {
        "id": "C8jMZW29ivlo"
      },
      "execution_count": 32,
      "outputs": []
    },
    {
      "cell_type": "code",
      "source": [
        "# Définir la métrique de performance (ici MSE)\n",
        "scorer = make_scorer(mean_squared_error, greater_is_better=False)\n",
        "\n",
        "# Exécuter la recherche de grille\n",
        "grid_search = GridSearchCV(net, param_grid, scoring=scorer, cv=3, n_jobs=-1, verbose=2)\n",
        "grid_search.fit(X_train, y_train)\n",
        "\n",
        "# Meilleurs hyperparamètres\n",
        "print(\"Meilleurs hyperparamètres trouvés :\", grid_search.best_params_)\n",
        "print(\"Erreur quadratique moyenne de validation :\", -grid_search.best_score_)"
      ],
      "metadata": {
        "colab": {
          "base_uri": "https://localhost:8080/"
        },
        "id": "hlNivnOthU4B",
        "outputId": "cebded77-684a-488e-e92c-311e9efc6760"
      },
      "execution_count": null,
      "outputs": [
        {
          "output_type": "stream",
          "name": "stdout",
          "text": [
            "Fitting 3 folds for each of 486 candidates, totalling 1458 fits\n"
          ]
        }
      ]
    },
    {
      "cell_type": "code",
      "source": [
        "import matplotlib.pyplot as plt\n",
        "\n",
        "# Listes pour stocker les pertes par époque\n",
        "train_losses = []\n",
        "test_losses = []\n",
        "\n",
        "num_epochs = 100\n",
        "for epoch in range(num_epochs):\n",
        "    # Entraînement\n",
        "    model.train()\n",
        "    epoch_train_loss = 0\n",
        "    for X_batch, y_batch in train_loader:\n",
        "        optimizer.zero_grad()\n",
        "        y_pred = model(X_batch)\n",
        "        loss = criterion(y_pred, y_batch)\n",
        "        loss.backward()\n",
        "        optimizer.step()\n",
        "        epoch_train_loss += loss.item()\n",
        "    train_losses.append(epoch_train_loss / len(train_loader))\n",
        "\n",
        "    # Validation (test)\n",
        "    model.eval()\n",
        "    with torch.no_grad():\n",
        "        epoch_test_loss = 0\n",
        "        for X_batch, y_batch in test_loader:\n",
        "            y_pred = model(X_batch)\n",
        "            loss = criterion(y_pred, y_batch)\n",
        "            epoch_test_loss += loss.item()\n",
        "        test_losses.append(epoch_test_loss / len(test_loader))\n",
        "\n",
        "# Tracer les graphes de perte (Loss / Epochs)\n",
        "plt.figure(figsize=(12, 5))\n",
        "\n",
        "# Graphique de la perte pour l'entraînement et le test\n",
        "plt.plot(range(1, num_epochs + 1), train_losses, label='Training Loss')\n",
        "plt.plot(range(1, num_epochs + 1), test_losses, label='Test Loss')\n",
        "plt.xlabel('Epochs')\n",
        "plt.ylabel('Loss (MSE)')\n",
        "plt.title('Loss / Epochs for Training and Test Data')\n",
        "plt.legend()\n",
        "plt.show()\n"
      ],
      "metadata": {
        "id": "L0FaXkYMxNjW"
      },
      "execution_count": null,
      "outputs": []
    }
  ]
}